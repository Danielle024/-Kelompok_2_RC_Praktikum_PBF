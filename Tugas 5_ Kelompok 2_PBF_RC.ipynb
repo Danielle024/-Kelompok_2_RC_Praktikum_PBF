{
  "nbformat": 4,
  "nbformat_minor": 0,
  "metadata": {
    "colab": {
      "provenance": []
    },
    "kernelspec": {
      "name": "python3",
      "display_name": "Python 3"
    },
    "language_info": {
      "name": "python"
    }
  },
  "cells": [
    {
      "cell_type": "code",
      "execution_count": 1,
      "metadata": {
        "colab": {
          "base_uri": "https://localhost:8080/"
        },
        "id": "H9aK8kO12UJ-",
        "outputId": "18f17107-b402-41c8-8be2-f854c4a8e32a"
      },
      "outputs": [
        {
          "output_type": "stream",
          "name": "stdout",
          "text": [
            "Bilangan genap: [2, 4, 6, 8, 10]\n",
            "Kuadrat dari setiap bilangan: [1, 4, 9, 16, 25, 36, 49, 64, 81, 100]\n"
          ]
        }
      ],
      "source": [
        "#Filter Bilangan Genap\n",
        "def is_even(num):\n",
        "    return num % 2 == 0\n",
        "\n",
        "def filter_list(predicate, lst):\n",
        "    return [x for x in lst if predicate(x)]\n",
        "\n",
        "# Higher order function untuk map\n",
        "def square(num):\n",
        "    return num ** 2\n",
        "\n",
        "def map_list(func, lst):\n",
        "    return [func(x) for x in lst]\n",
        "\n",
        "numbers = [1, 2, 3, 4, 5, 6, 7, 8, 9, 10]\n",
        "\n",
        "# buat Filter bilangan genap\n",
        "even_numbers = filter_list(is_even, numbers)\n",
        "print(\"Bilangan genap:\", even_numbers)\n",
        "\n",
        "# Buat utk fungsi kuadratnya\n",
        "squared_numbers = map_list(square, numbers)\n",
        "print(\"Kuadrat dari setiap bilangan:\", squared_numbers)"
      ]
    },
    {
      "cell_type": "code",
      "source": [],
      "metadata": {
        "id": "5PiEFDVz2vUo"
      },
      "execution_count": null,
      "outputs": []
    }
  ]
}