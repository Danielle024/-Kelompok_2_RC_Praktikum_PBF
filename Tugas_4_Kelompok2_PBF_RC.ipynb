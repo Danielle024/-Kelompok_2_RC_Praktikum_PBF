{
  "nbformat": 4,
  "nbformat_minor": 0,
  "metadata": {
    "colab": {
      "provenance": []
    },
    "kernelspec": {
      "name": "python3",
      "display_name": "Python 3"
    },
    "language_info": {
      "name": "python"
    }
  },
  "cells": [
    {
      "cell_type": "markdown",
      "source": [
        "# Tugas 4 Kelompok2_PBF_RC"
      ],
      "metadata": {
        "id": "rDl7FmP2PH9d"
      }
    },
    {
      "cell_type": "code",
      "execution_count": 2,
      "metadata": {
        "colab": {
          "base_uri": "https://localhost:8080/"
        },
        "id": "14foApFBw7fL",
        "outputId": "421bd4a5-dfc7-4ddb-d5f3-f7ac0296bf4e"
      },
      "outputs": [
        {
          "name": "stdout",
          "output_type": "stream",
          "text": [
            "Masukkan ukuran jendela untuk perhitungan moving average: 3\n",
            "Masukkan data baru (atau 'q' untuk keluar): 10\n",
            "Belum cukup data.\n",
            "Masukkan data baru (atau 'q' untuk keluar): 15\n",
            "Belum cukup data.\n",
            "Masukkan data baru (atau 'q' untuk keluar): 20\n",
            "Moving Average: 15.0\n",
            "Masukkan data baru (atau 'q' untuk keluar): 25\n",
            "Moving Average: 20.0\n",
            "Masukkan data baru (atau 'q' untuk keluar): 30\n",
            "Moving Average: 25.0\n",
            "Masukkan data baru (atau 'q' untuk keluar): 35\n",
            "Moving Average: 30.0\n",
            "Masukkan data baru (atau 'q' untuk keluar): q\n"
          ]
        }
      ],
      "source": [
        "class PenghitungMovingAverage:\n",
        "    def __init__(self, ukuran_jendela):\n",
        "        self.ukuran_jendela = ukuran_jendela\n",
        "        self.data = []\n",
        "\n",
        "    def tambahkan_data(self, data_baru):\n",
        "        self.data.append(data_baru)\n",
        "        if len(self.data) > self.ukuran_jendela:\n",
        "            self.data.pop(0)\n",
        "\n",
        "    def hitung_moving_average(self):\n",
        "        if len(self.data) < self.ukuran_jendela:\n",
        "            return None  # Belum cukup data\n",
        "        return sum(self.data) / self.ukuran_jendela\n",
        "\n",
        "\n",
        "def main():\n",
        "    ukuran_jendela = int(input(\"Masukkan ukuran jendela untuk perhitungan moving average: \"))\n",
        "    penghitung_moving_avg = PenghitungMovingAverage(ukuran_jendela)\n",
        "\n",
        "    while True:\n",
        "        data_baru = input(\"Masukkan data baru (atau 'q' untuk keluar): \")\n",
        "        if data_baru.lower() == 'q':\n",
        "            break\n",
        "        try:\n",
        "            data_baru = float(data_baru)\n",
        "            penghitung_moving_avg.tambahkan_data(data_baru)\n",
        "            moving_avg = penghitung_moving_avg.hitung_moving_average()\n",
        "            if moving_avg is not None:\n",
        "                print(f\"Moving Average: {moving_avg}\")\n",
        "            else:\n",
        "                print(\"Belum cukup data.\")\n",
        "        except ValueError:\n",
        "            print(\"Input tidak valid! Harap masukkan nilai numerik atau 'q' untuk keluar.\")\n",
        "\n",
        "\n",
        "if __name__ == \"__main__\":\n",
        "    main()\n"
      ]
    }
  ]
}