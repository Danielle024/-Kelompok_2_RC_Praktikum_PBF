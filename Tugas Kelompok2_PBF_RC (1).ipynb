{
  "nbformat": 4,
  "nbformat_minor": 0,
  "metadata": {
    "colab": {
      "provenance": []
    },
    "kernelspec": {
      "name": "python3",
      "display_name": "Python 3"
    },
    "language_info": {
      "name": "python"
    }
  },
  "cells": [
    {
      "cell_type": "code",
      "execution_count": null,
      "metadata": {
        "colab": {
          "base_uri": "https://localhost:8080/"
        },
        "id": "PjujiUTkIXyO",
        "outputId": "e2720c2e-6381-4be3-dd74-d6d0f025e895"
      },
      "outputs": [
        {
          "output_type": "stream",
          "name": "stdout",
          "text": [
            "           X          Y   incident_id agency               incident_address  \\\n",
            "0 -82.993989  42.410293  202306901627   DPD     Glenfield Ave & Gratiot Ave   \n",
            "1 -83.052792  42.415266  202306901629   DPD            Luce St & Fenelon St   \n",
            "2 -83.072103  42.368421  202306901630   DPD   W Baltimore St & Woodward Ave   \n",
            "3 -83.226541  42.429892  202306901632   DPD          Avon Ave & W 7 Mile Rd   \n",
            "4 -83.240073  42.409465  202306901633   DPD     Heyden St & Grand River Ave   \n",
            "\n",
            "   zip_code priority callcode             calldescription  category  ...  \\\n",
            "0     48213        3   W4807   START OF SHIFT INFORMATION  STRTSHFT  ...   \n",
            "1     48212        3   SA               SPECIAL ATTENTION  SPCL ATT  ...   \n",
            "2     48202        3   SA               SPECIAL ATTENTION  SPCL ATT  ...   \n",
            "3     48219        4   372040                 UDAA REPORT  UDAAREPT  ...   \n",
            "4     48219        3   SA               SPECIAL ATTENTION  SPCL ATT  ...   \n",
            "\n",
            "  traveltime totalresponsetime time_on_scene totaltime     neighborhood  \\\n",
            "0        0.0               0.0           7.6       7.7     Eden Gardens   \n",
            "1        0.0               0.0          22.8      22.8  Buffalo Charles   \n",
            "2        0.0               0.0          18.7      18.7       New Center   \n",
            "3        0.0               0.0           0.8       0.8      O'Hair Park   \n",
            "4        0.0               0.0           5.0       5.0     Miller Grove   \n",
            "\n",
            "       block_id  council_district  longitude   latitude  ObjectId  \n",
            "0  2.616350e+14               4.0 -82.993989  42.410293       1.0  \n",
            "1  2.616351e+14               3.0 -83.052792  42.415266       2.0  \n",
            "2  2.616353e+14               5.0 -83.072103  42.368421       3.0  \n",
            "3  2.616354e+14               1.0 -83.226541  42.429892       4.0  \n",
            "4  2.616354e+14               1.0 -83.240073  42.409465       5.0  \n",
            "\n",
            "[5 rows x 26 columns]\n"
          ]
        },
        {
          "output_type": "stream",
          "name": "stderr",
          "text": [
            "<ipython-input-1-6022cb3d02e3>:6: DtypeWarning: Columns (6) have mixed types. Specify dtype option on import or set low_memory=False.\n",
            "  dataset = pd.read_csv(file_path)\n"
          ]
        }
      ],
      "source": [
        "# Import library pandas untuk manipulasi data\n",
        "import pandas as pd\n",
        "\n",
        "# Membaca file CSV dari runtime Colab\n",
        "file_path = '1.csv' # Ganti 'nama_file.csv' dengan nama file CSV Anda\n",
        "dataset = pd.read_csv(file_path)\n",
        "\n",
        "# Menampilkan beberapa baris pertama dari DataFrame\n",
        "print(dataset.head())\n"
      ]
    },
    {
      "cell_type": "code",
      "source": [
        "# Membuat list dari dictionary kosong\n",
        "daftar_kamus = []\n",
        "\n",
        "# Menambahkan dictionary kosong ke dalam list\n",
        "daftar_kamus.append({})\n"
      ],
      "metadata": {
        "id": "NnGQiAe2JnIq"
      },
      "execution_count": null,
      "outputs": []
    },
    {
      "cell_type": "code",
      "source": [
        "import pandas as pd\n",
        "\n",
        "# Membaca dataset\n",
        "file_path = '1.csv'  # Ganti 'nama_file.csv' dengan nama file CSV Anda\n",
        "dataset = pd.read_csv(file_path)\n",
        "\n",
        "# Menghapus baris yang memiliki data yang hilang di kolom Zip atau Neighborhood\n",
        "filtered_dataset = dataset.dropna(subset=['zip_code', 'neighborhood'])\n",
        "\n",
        "# Menghitung total waktu respons rata-rata, waktu pengiriman rata-rata, dan total waktu rata-rata\n",
        "total_time_respond = filtered_dataset['traveltime'].mean()\n",
        "total_time_arrival = filtered_dataset['totalresponsetime'].mean()\n",
        "total_response_time = filtered_dataset['totaltime'].mean()\n",
        "\n",
        "print(\"Total Average Time to Respond:\", total_time_respond)\n",
        "print(\"Total Average Time to Arrival:\", total_time_arrival)\n",
        "print(\"Total Average Response Time:\", total_response_time)\n"
      ],
      "metadata": {
        "colab": {
          "base_uri": "https://localhost:8080/"
        },
        "id": "P8kNBX8xJy7z",
        "outputId": "2fe82d5b-8c47-4264-d9f1-48a2f4aef347"
      },
      "execution_count": null,
      "outputs": [
        {
          "output_type": "stream",
          "name": "stdout",
          "text": [
            "Total Average Time to Respond: 2.3212032375246956\n",
            "Total Average Time to Arrival: 8.231259957937672\n",
            "Total Average Response Time: 29.467697398628854\n"
          ]
        },
        {
          "output_type": "stream",
          "name": "stderr",
          "text": [
            "<ipython-input-3-a6160672a4da>:5: DtypeWarning: Columns (6) have mixed types. Specify dtype option on import or set low_memory=False.\n",
            "  dataset = pd.read_csv(file_path)\n"
          ]
        }
      ]
    },
    {
      "cell_type": "code",
      "source": [
        "import csv\n",
        "\n",
        "# Membaca beberapa baris pertama dari file CSV\n",
        "with open('1.csv', 'r') as file:\n",
        "    reader = csv.reader(file)\n",
        "    for _ in range(5):\n",
        "        print(next(reader))\n"
      ],
      "metadata": {
        "colab": {
          "base_uri": "https://localhost:8080/"
        },
        "id": "yO0qf0VFLHa6",
        "outputId": "1cbfadfa-9831-4eff-a91e-0b5b7011bfbd"
      },
      "execution_count": null,
      "outputs": [
        {
          "output_type": "stream",
          "name": "stdout",
          "text": [
            "['\\ufeffX', 'Y', 'incident_id', 'agency', 'incident_address', 'zip_code', 'priority', 'callcode', 'calldescription', 'category', 'call_timestamp', 'precinct_sca', 'respondingunit', 'officerinitiated', 'intaketime', 'dispatchtime', 'traveltime', 'totalresponsetime', 'time_on_scene', 'totaltime', 'neighborhood', 'block_id', 'council_district', 'longitude', 'latitude', 'ObjectId']\n",
            "['-82.9939891124647', '42.4102933959953', '202306901627', 'DPD ', 'Glenfield Ave & Gratiot Ave', '48213', '3', 'W4807 ', 'START OF SHIFT INFORMATION', 'STRTSHFT', '2023/03/10 16:35:18+00', '99B ', '09M2  ', 'Yes', '0', '0', '0', '0', '7.6', '7.7', 'Eden Gardens', '261635039003013', '4', '-82.9939891124647', '42.4102933959953', '1']\n",
            "['-83.0527918329914', '42.4152659212409', '202306901629', 'DPD ', 'Luce St & Fenelon St', '48212', '3', 'SA    ', 'SPECIAL ATTENTION', 'SPCL ATT', '2023/03/10 16:36:05+00', '111A', '1180  ', 'Yes', '0', '0', '0', '0', '22.8', '22.8', 'Buffalo Charles', '261635113003012', '3', '-83.0527918329914', '42.4152659212409', '2']\n",
            "['-83.0721029513339', '42.3684207488264', '202306901630', 'DPD ', 'W Baltimore St & Woodward Ave', '48202', '3', 'SA    ', 'SPECIAL ATTENTION', 'SPCL ATT', '2023/03/10 16:36:07+00', '36A ', '03M2  ', 'Yes', '0', '0', '0', '0', '18.7', '18.7', 'New Center', '261635339003028', '5', '-83.0721029513339', '42.3684207488264', '3']\n",
            "['-83.2265409302886', '42.4298918235702', '202306901632', 'DPD ', 'Avon Ave & W 7 Mile Rd', '48219', '4', '372040', 'UDAA REPORT', 'UDAAREPT', '2023/03/10 16:36:20+00', '83B ', 'POS05 ', 'Yes', '0', '0', '0', '0', '0.8', '0.8', \"O'Hair Park\", '261635407002008', '1', '-83.2265409302886', '42.4298918235702', '4']\n"
          ]
        }
      ]
    },
    {
      "cell_type": "code",
      "source": [
        "def csv_to_dict(row):\n",
        "    return {\n",
        "        'X': float(row['\\ufeffX']),\n",
        "        'Y': float(row['Y']),\n",
        "        'incident_id': int(row['incident_id']),\n",
        "        'agency': row['agency'],\n",
        "        'incident_address': row['incident_address'],\n",
        "        'zip_code': row['zip_code'],\n",
        "        'priority': int(row['priority']),\n",
        "        'callcode': row['callcode'],\n",
        "        'calldescription': row['calldescription'],\n",
        "        'category': row['category'],\n",
        "        'traveltime': float(row['traveltime']) if row['traveltime'] else 0.0,  # Handling nilai kosong\n",
        "        'totalresponsetime': float(row['totalresponsetime']) if row['totalresponsetime'] else 0.0,  # Handling nilai kosong\n",
        "        'time_on_scene': float(row['time_on_scene']) if row['time_on_scene'] else 0.0,  # Handling nilai kosong\n",
        "        'totaltime': float(row['totaltime']),\n",
        "        'neighborhood': row['neighborhood'],\n",
        "        'block_id': float(row['block_id']),\n",
        "        'council_district': float(row['council_district']),\n",
        "        'longitude': float(row['longitude']),\n",
        "        'latitude': float(row['latitude']),\n",
        "        'ObjectId': int(row['ObjectId'])\n",
        "    }\n"
      ],
      "metadata": {
        "id": "h6bhugYaMuU1"
      },
      "execution_count": null,
      "outputs": []
    },
    {
      "cell_type": "code",
      "source": [
        "# Filter baris yang memiliki data yang hilang di kolom Zip atau Neighborhood\n",
        "filtered_data = list(filter(lambda x: x['zip_code'] != '' and x['neighborhood'] != '', data))\n",
        "\n",
        "# Hitung total waktu respons rata-rata, waktu pengiriman rata-rata, dan total waktu rata-rata untuk kepolisian Detroit\n",
        "total_time_respond = reduce(lambda acc, val: acc + val['traveltime'], filtered_data, 0)\n",
        "total_time_arrival = reduce(lambda acc, val: acc + val['totalresponsetime'], filtered_data, 0)\n",
        "total_response_time = reduce(lambda acc, val: acc + val['totaltime'], filtered_data, 0)\n",
        "\n",
        "average_time_respond = total_time_respond / len(filtered_data)\n",
        "average_time_arrival = total_time_arrival / len(filtered_data)\n",
        "average_response_time = total_response_time / len(filtered_data)\n",
        "\n",
        "print(\"Total Average Time to Respond:\", average_time_respond)\n",
        "print(\"Total Average Time to Arrival:\", average_time_arrival)\n",
        "print(\"Total Average Response Time:\", average_response_time)"
      ],
      "metadata": {
        "colab": {
          "base_uri": "https://localhost:8080/"
        },
        "id": "SFQaTA-uNQFP",
        "outputId": "35432f82-f60f-4b7a-d421-86c1e48fa5ed"
      },
      "execution_count": null,
      "outputs": [
        {
          "output_type": "stream",
          "name": "stdout",
          "text": [
            "Total Average Time to Respond: 2.822222222222222\n",
            "Total Average Time to Arrival: 19.533333333333335\n",
            "Total Average Response Time: 32.733333333333334\n"
          ]
        }
      ]
    },
    {
      "cell_type": "code",
      "source": [
        "from functools import reduce\n",
        "\n",
        "# Membagi list dictionary menjadi sublist dictionary berdasarkan nilai 'neighborhood'\n",
        "neighborhood_data = {}\n",
        "for entry in filtered_data:\n",
        "    neighborhood = entry['neighborhood']\n",
        "    if neighborhood not in neighborhood_data:\n",
        "        neighborhood_data[neighborhood] = []\n",
        "    neighborhood_data[neighborhood].append(entry)\n",
        "\n",
        "# Menghitung total waktu respons rata-rata, waktu pengiriman rata-rata, dan total waktu rata-rata untuk setiap neighborhood\n",
        "neighborhood_statistics = []\n",
        "for neighborhood, data in neighborhood_data.items():\n",
        "    total_time_respond = reduce(lambda acc, val: acc + val['traveltime'], data, 0)\n",
        "    total_time_arrival = reduce(lambda acc, val: acc + val['totalresponsetime'], data, 0)\n",
        "    total_response_time = reduce(lambda acc, val: acc + val['totaltime'], data, 0)\n",
        "    average_time_respond = total_time_respond / len(data)\n",
        "    average_time_arrival = total_time_arrival / len(data)\n",
        "    average_response_time = total_response_time / len(data)\n",
        "    neighborhood_statistics.append({\n",
        "        'neighborhood': neighborhood,\n",
        "        'total_average_time_respond': average_time_respond,\n",
        "        'total_average_time_arrival': average_time_arrival,\n",
        "        'total_average_response_time': average_response_time,\n",
        "    })\n",
        "\n",
        "# Menambahkan item dictionary untuk menyertakan data populasi untuk semua Detroit dalam daftar gabungan Anda\n",
        "for stat in neighborhood_statistics:\n",
        "    stat['population'] = len(neighborhood_data[stat['neighborhood']])\n",
        "\n",
        "# Menyimpan hasil perhitungan ke dalam list dictionary\n",
        "print(neighborhood_statistics)\n"
      ],
      "metadata": {
        "colab": {
          "base_uri": "https://localhost:8080/"
        },
        "id": "UMPsNSd3NlR1",
        "outputId": "bc29b5e3-f529-4687-cf25-0a0babe1563f"
      },
      "execution_count": null,
      "outputs": [
        {
          "output_type": "stream",
          "name": "stdout",
          "text": [
            "[{'neighborhood': 'Eden Gardens', 'total_average_time_respond': 0.0, 'total_average_time_arrival': 0.0, 'total_average_response_time': 7.7, 'population': 1}, {'neighborhood': 'Buffalo Charles', 'total_average_time_respond': 0.0, 'total_average_time_arrival': 0.0, 'total_average_response_time': 22.8, 'population': 1}, {'neighborhood': 'New Center', 'total_average_time_respond': 0.0, 'total_average_time_arrival': 0.0, 'total_average_response_time': 18.7, 'population': 1}, {'neighborhood': \"O'Hair Park\", 'total_average_time_respond': 0.0, 'total_average_time_arrival': 0.0, 'total_average_response_time': 0.8, 'population': 1}, {'neighborhood': 'Miller Grove', 'total_average_time_respond': 0.0, 'total_average_time_arrival': 0.0, 'total_average_response_time': 5.0, 'population': 1}, {'neighborhood': 'Elmwood Park', 'total_average_time_respond': 4.6, 'total_average_time_arrival': 102.2, 'total_average_response_time': 127.0, 'population': 1}, {'neighborhood': 'Downtown', 'total_average_time_respond': 0.0, 'total_average_time_arrival': 0.0, 'total_average_response_time': 6.8, 'population': 1}, {'neighborhood': 'Warrendale', 'total_average_time_respond': 9.7, 'total_average_time_arrival': 16.6, 'total_average_response_time': 43.7, 'population': 1}, {'neighborhood': 'Palmer Park', 'total_average_time_respond': 11.1, 'total_average_time_arrival': 57.0, 'total_average_response_time': 62.1, 'population': 1}]\n"
          ]
        }
      ]
    },
    {
      "cell_type": "code",
      "source": [
        "import json\n",
        "\n",
        "# Tulis list dictionary ke dalam file JSON\n",
        "output_file_path = 'output.json'\n",
        "with open(output_file_path, 'w') as output_file:\n",
        "    json.dump(neighborhood_statistics, output_file, indent=4)\n",
        "\n",
        "print(\"File JSON berhasil dibuat:\", output_file_path)\n"
      ],
      "metadata": {
        "colab": {
          "base_uri": "https://localhost:8080/"
        },
        "id": "R-WvTXggN7OF",
        "outputId": "6a0344e1-ca0f-47fa-ef88-74a1eb103251"
      },
      "execution_count": null,
      "outputs": [
        {
          "output_type": "stream",
          "name": "stdout",
          "text": [
            "File JSON berhasil dibuat: output.json\n"
          ]
        }
      ]
    },
    {
      "cell_type": "code",
      "source": [
        "from google.colab import files\n",
        "\n",
        "# Unduh file JSON\n",
        "files.download('output.json')\n"
      ],
      "metadata": {
        "colab": {
          "base_uri": "https://localhost:8080/",
          "height": 17
        },
        "id": "HnUhP_xyOUu8",
        "outputId": "1b108888-393a-45e2-9045-28ada1b12a93"
      },
      "execution_count": null,
      "outputs": [
        {
          "output_type": "display_data",
          "data": {
            "text/plain": [
              "<IPython.core.display.Javascript object>"
            ],
            "application/javascript": [
              "\n",
              "    async function download(id, filename, size) {\n",
              "      if (!google.colab.kernel.accessAllowed) {\n",
              "        return;\n",
              "      }\n",
              "      const div = document.createElement('div');\n",
              "      const label = document.createElement('label');\n",
              "      label.textContent = `Downloading \"${filename}\": `;\n",
              "      div.appendChild(label);\n",
              "      const progress = document.createElement('progress');\n",
              "      progress.max = size;\n",
              "      div.appendChild(progress);\n",
              "      document.body.appendChild(div);\n",
              "\n",
              "      const buffers = [];\n",
              "      let downloaded = 0;\n",
              "\n",
              "      const channel = await google.colab.kernel.comms.open(id);\n",
              "      // Send a message to notify the kernel that we're ready.\n",
              "      channel.send({})\n",
              "\n",
              "      for await (const message of channel.messages) {\n",
              "        // Send a message to notify the kernel that we're ready.\n",
              "        channel.send({})\n",
              "        if (message.buffers) {\n",
              "          for (const buffer of message.buffers) {\n",
              "            buffers.push(buffer);\n",
              "            downloaded += buffer.byteLength;\n",
              "            progress.value = downloaded;\n",
              "          }\n",
              "        }\n",
              "      }\n",
              "      const blob = new Blob(buffers, {type: 'application/binary'});\n",
              "      const a = document.createElement('a');\n",
              "      a.href = window.URL.createObjectURL(blob);\n",
              "      a.download = filename;\n",
              "      div.appendChild(a);\n",
              "      a.click();\n",
              "      div.remove();\n",
              "    }\n",
              "  "
            ]
          },
          "metadata": {}
        },
        {
          "output_type": "display_data",
          "data": {
            "text/plain": [
              "<IPython.core.display.Javascript object>"
            ],
            "application/javascript": [
              "download(\"download_2c8af351-3cf4-40df-bab4-97b67f5e8b3a\", \"output.json\", 1869)"
            ]
          },
          "metadata": {}
        }
      ]
    }
  ]
}